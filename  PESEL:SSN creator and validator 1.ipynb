{
 "cells": [
  {
   "cell_type": "markdown",
   "id": "57e9f09d",
   "metadata": {},
   "source": [
    "1. Bazując na bibliotekach pandas (https://github.com/pandas-dev/pandas) i faker (https://github.com/joke2k/faker), a konkretnie metodzie ssn z klasy Provider dla lokalizacji pl_PL (https://github.com/joke2k/faker/blob/master/faker/providers/ssn/pl_PL/__init__.py#L33) zaimplementuj funkcję o nazwie generate_ssns, która zwraca obiekt typu Series z liczbą rekordów określoną parametrem wejściowym funkcji oraz wartościami reprezentującymi wygenerowane losowe numery PESEL. "
   ]
  },
  {
   "cell_type": "code",
   "execution_count": 1,
   "id": "5d6d86b1",
   "metadata": {},
   "outputs": [],
   "source": [
    "import numpy as np\n",
    "import pandas as pd\n",
    "from faker import Faker"
   ]
  },
  {
   "cell_type": "code",
   "execution_count": 2,
   "id": "9ffaef44",
   "metadata": {},
   "outputs": [
    {
     "data": {
      "text/plain": [
       "'pan Andrzej Kapuścik'"
      ]
     },
     "execution_count": 2,
     "metadata": {},
     "output_type": "execute_result"
    }
   ],
   "source": [
    "fake=Faker('pl_PL')\n",
    "fake.name()"
   ]
  },
  {
   "cell_type": "code",
   "execution_count": 3,
   "id": "e26e8924",
   "metadata": {},
   "outputs": [],
   "source": [
    "def generate_ssns(n):\n",
    "    pesel_list=[]\n",
    "    for i in range(n):\n",
    "        pesel_list.append(fake.ssn())\n",
    "\n",
    "    return pd.Series(data=pesel_list)"
   ]
  },
  {
   "cell_type": "code",
   "execution_count": 4,
   "id": "8e6655cb",
   "metadata": {},
   "outputs": [
    {
     "data": {
      "text/plain": [
       "0    73022328832\n",
       "1    99041796498\n",
       "2    07310692116\n",
       "3    70042699119\n",
       "4    83020692679\n",
       "5    88071774800\n",
       "6    19220339986\n",
       "7    77061636622\n",
       "8    11250125852\n",
       "9    86090223501\n",
       "dtype: object"
      ]
     },
     "execution_count": 4,
     "metadata": {},
     "output_type": "execute_result"
    }
   ],
   "source": [
    "generate_ssns(10)"
   ]
  },
  {
   "cell_type": "markdown",
   "id": "938f4332",
   "metadata": {},
   "source": [
    "2. Zaimplementuj funkcję generate_unique_ssns (w dowolny sposób), która zwraca obiekt typu Series z liczbą rekordów określoną parametrem wejściowym funkcji oraz wartościami reprezentującymi wygenerowane losowe i unikalne (tylko w ramach zwracanej kolekcji) numery PESEL właściwe dla osób o płci (żeńska/męska) oraz urodzonych w przedziale dat (od-do) określonymi również parametrami wejściowymi tej funkcji. "
   ]
  },
  {
   "cell_type": "code",
   "execution_count": 5,
   "id": "1e99d616",
   "metadata": {},
   "outputs": [],
   "source": [
    "'''\n",
    "dla osób urodzonych w latach 1900 do 1999 – miesiąc zapisywany jest w sposób naturalny, tzn. dwucyfrowo od 01 do 12\n",
    "\n",
    "dla osób urodzonych w innych latach niż 1900–1999 dodawane są do numeru miesiąca następujące wielkości:\n",
    "\n",
    "dla lat 2000–2099 – 20\n",
    "dla lat 2100–2199 – 40\n",
    "dla lat 2200–2299 – 60\n",
    "dla lat 1800–1899 – 80\n",
    "\n",
    "'''\n",
    "\n",
    "def convert_ssn_to_date_int(some_ssn):\n",
    "    d =some_ssn[4:6]\n",
    "    m =some_ssn[2:4]\n",
    "    y2 =some_ssn[0:2]\n",
    "    \n",
    "    if int(m) in range(1, 13):\n",
    "        y1='19'\n",
    "    elif int(m) in range(21, 33):\n",
    "        y1='20'\n",
    "        m=str(int(m)-20)\n",
    "    elif int(m) in range(41, 53):\n",
    "        y1='21'\n",
    "        m=str(int(m)-40)\n",
    "    elif int(m) in range(61, 73):\n",
    "        y1='22'\n",
    "        m=str(int(m)-60)\n",
    "    elif int(m) in range(81, 93):\n",
    "        y1='18'\n",
    "        m=str(int(m)-80)\n",
    "        \n",
    "    return int(y1+y2+m+d)"
   ]
  },
  {
   "cell_type": "code",
   "execution_count": 6,
   "id": "cdc9c840",
   "metadata": {},
   "outputs": [
    {
     "data": {
      "text/plain": [
       "2006430"
      ]
     },
     "execution_count": 6,
     "metadata": {},
     "output_type": "execute_result"
    }
   ],
   "source": [
    "convert_ssn_to_date_int('06243059966')"
   ]
  },
  {
   "cell_type": "code",
   "execution_count": 7,
   "id": "b9f7996d",
   "metadata": {},
   "outputs": [
    {
     "data": {
      "text/plain": [
       "True"
      ]
     },
     "execution_count": 7,
     "metadata": {},
     "output_type": "execute_result"
    }
   ],
   "source": [
    "'06243059966'.isnumeric()"
   ]
  },
  {
   "cell_type": "code",
   "execution_count": null,
   "id": "d3f174f8",
   "metadata": {},
   "outputs": [],
   "source": []
  },
  {
   "cell_type": "code",
   "execution_count": 8,
   "id": "83aa134f",
   "metadata": {},
   "outputs": [],
   "source": [
    "n=10\n",
    "sex = 'f'\n",
    "date_start_str = \"19700101\"\n",
    "date_stop_str = \"19750101\"\n",
    "\n",
    "def generate_unique_ssns(n,sex,date_start,date_stop):\n",
    "    \n",
    "    if not date_start.isnumeric() or not date_stop.isnumeric():\n",
    "        return ('Error, date has to be numeric')\n",
    "    \n",
    "    elif len(date_start) != 8 or len(date_stop)!=8:\n",
    "        return ('Error, check the length of the date')\n",
    "    \n",
    "    #converting dates into integers\n",
    "    date_start_int = int(date_start)\n",
    "    date_stop_int = int(date_stop)\n",
    "    \n",
    "    if date_stop_int < date_start_int:\n",
    "        return('Error! date range not correct')\n",
    "\n",
    "    #creating variable depending on sex\n",
    "    ssn_list=[]\n",
    "    if sex.lower()[0] == 'm':\n",
    "        sex_variable=1\n",
    "    elif sex.lower()[0] == 'f':\n",
    "        sex_variable=0\n",
    "    else:\n",
    "        return('Error, please choose between male or female')\n",
    "\n",
    "    #looping untill 'n' fake ssns are created\n",
    "    while len(ssn_list)<n:\n",
    "        \n",
    "        #creating a fake ssn\n",
    "        new_ssn = fake.ssn()\n",
    "        date_int = convert_ssn_to_date_int(new_ssn)\n",
    "\n",
    "        #validating sex\n",
    "        if int(new_ssn[-2])%2 ==sex_variable:\n",
    "\n",
    "            #validating date\n",
    "            if  date_start_int <= date_int <= date_stop_int:\n",
    "                \n",
    "                #checking if unique\n",
    "                if new_ssn not in ssn_list:\n",
    "                    ssn_list.append(new_ssn)\n",
    "                else:\n",
    "                    pass\n",
    "            else:\n",
    "                pass\n",
    "        else:\n",
    "            pass\n",
    "\n",
    "    return pd.Series(data=ssn_list)"
   ]
  },
  {
   "cell_type": "code",
   "execution_count": 9,
   "id": "f4c8f51d",
   "metadata": {},
   "outputs": [
    {
     "data": {
      "text/plain": [
       "0     21310629262\n",
       "1     21310643828\n",
       "2     21301579503\n",
       "3     21312580125\n",
       "4     21300425843\n",
       "         ...     \n",
       "95    21320576763\n",
       "96    21320558783\n",
       "97    21302510789\n",
       "98    21312135004\n",
       "99    21302938187\n",
       "Length: 100, dtype: object"
      ]
     },
     "execution_count": 9,
     "metadata": {},
     "output_type": "execute_result"
    }
   ],
   "source": [
    "generate_unique_ssns(100,'f','20210120','20221230')"
   ]
  },
  {
   "cell_type": "code",
   "execution_count": null,
   "id": "985192de",
   "metadata": {},
   "outputs": [],
   "source": []
  },
  {
   "cell_type": "markdown",
   "id": "2dd48473",
   "metadata": {},
   "source": [
    "Następnie zaimplementuj wywołania funkcji generate_ssns oraz generate_unique_ssns dla 1 000, 10 000 i 100 000 rekordów, wskazując wybraną płeć oraz przedział dat urodzenia od 1990-01-01 do 1990-01-19. Dokonaj pomiaru i wyświetl czas trwania ich wykonania (osobno dla każdego wywołania każdej z tych dwóch funkcji). \n",
    "\n",
    "\n",
    "###Ze względu na ograniczoną moc obliczeniową komputera, zmieniłem wartości na 100, 1000, 3000###"
   ]
  },
  {
   "cell_type": "code",
   "execution_count": null,
   "id": "62fa4bce",
   "metadata": {},
   "outputs": [],
   "source": []
  },
  {
   "cell_type": "code",
   "execution_count": 14,
   "id": "a9ccef00",
   "metadata": {},
   "outputs": [
    {
     "data": {
      "text/html": [
       "<div>\n",
       "<style scoped>\n",
       "    .dataframe tbody tr th:only-of-type {\n",
       "        vertical-align: middle;\n",
       "    }\n",
       "\n",
       "    .dataframe tbody tr th {\n",
       "        vertical-align: top;\n",
       "    }\n",
       "\n",
       "    .dataframe thead th {\n",
       "        text-align: right;\n",
       "    }\n",
       "</style>\n",
       "<table border=\"1\" class=\"dataframe\">\n",
       "  <thead>\n",
       "    <tr style=\"text-align: right;\">\n",
       "      <th></th>\n",
       "      <th>ssns_number</th>\n",
       "      <th>unique</th>\n",
       "      <th>time elapsed [s]</th>\n",
       "    </tr>\n",
       "  </thead>\n",
       "  <tbody>\n",
       "    <tr>\n",
       "      <th>0</th>\n",
       "      <td>100</td>\n",
       "      <td>0</td>\n",
       "      <td>0.021765</td>\n",
       "    </tr>\n",
       "    <tr>\n",
       "      <th>1</th>\n",
       "      <td>1000</td>\n",
       "      <td>0</td>\n",
       "      <td>0.065491</td>\n",
       "    </tr>\n",
       "    <tr>\n",
       "      <th>2</th>\n",
       "      <td>3000</td>\n",
       "      <td>0</td>\n",
       "      <td>0.114479</td>\n",
       "    </tr>\n",
       "    <tr>\n",
       "      <th>3</th>\n",
       "      <td>100</td>\n",
       "      <td>1</td>\n",
       "      <td>7.881444</td>\n",
       "    </tr>\n",
       "    <tr>\n",
       "      <th>4</th>\n",
       "      <td>1000</td>\n",
       "      <td>1</td>\n",
       "      <td>99.047192</td>\n",
       "    </tr>\n",
       "    <tr>\n",
       "      <th>5</th>\n",
       "      <td>3000</td>\n",
       "      <td>1</td>\n",
       "      <td>300.507328</td>\n",
       "    </tr>\n",
       "  </tbody>\n",
       "</table>\n",
       "</div>"
      ],
      "text/plain": [
       "   ssns_number  unique  time elapsed [s]\n",
       "0          100       0          0.021765\n",
       "1         1000       0          0.065491\n",
       "2         3000       0          0.114479\n",
       "3          100       1          7.881444\n",
       "4         1000       1         99.047192\n",
       "5         3000       1        300.507328"
      ]
     },
     "execution_count": 14,
     "metadata": {},
     "output_type": "execute_result"
    }
   ],
   "source": [
    "import time\n",
    "import pandas as pd\n",
    "\n",
    "unique_list=[]\n",
    "delta_list=[]\n",
    "ssns_number_list=[]\n",
    "\n",
    "for i in[1000,10000,100000]:\n",
    "\n",
    "    start = time.time()\n",
    "    generate_ssns(i)\n",
    "    end = time.time()\n",
    "    delta=(end - start)\n",
    "    \n",
    "    ssns_number_list.append(i)\n",
    "    unique_list.append(0)\n",
    "    delta_list.append(delta)\n",
    "\n",
    "for i in[1000,10000,100000]:\n",
    "\n",
    "    start = time.time()\n",
    "    generate_unique_ssns(i,'f','19900101','19900119')\n",
    "    end = time.time()\n",
    "    delta=(end - start)\n",
    "    \n",
    "    ssns_number_list.append(i)\n",
    "    unique_list.append(1)\n",
    "    delta_list.append(delta)\n",
    "    \n",
    "\n",
    "\n",
    "df = pd.DataFrame(data ={'ssns_number':ssns_number_list,'unique':unique_list, \"time elapsed [s]\":delta_list})   \n",
    "\n",
    "df\n"
   ]
  },
  {
   "cell_type": "code",
   "execution_count": null,
   "id": "50b35465",
   "metadata": {},
   "outputs": [],
   "source": []
  },
  {
   "cell_type": "code",
   "execution_count": null,
   "id": "6572f489",
   "metadata": {},
   "outputs": [],
   "source": []
  },
  {
   "cell_type": "markdown",
   "id": "33469dc4",
   "metadata": {},
   "source": [
    "4. Zaimplementuj funkcję o nazwie validate_ssn, która na wejściu przyjmuje numer PESEL wraz z określeniem oczekiwanej płci (żeńska/męska/dowolna) i daty urodzenia (konkretna/określona lub dowolna), a na wyjściu zwraca informację o poprawności numeru PESEL. Wewnątrz funkcji zawrzyj logikę weryfikującą poprawność syntaktyczną numeru PESEL z uwzględnieniem informacji o oczekiwanej płci oraz dacie urodzenia. Następnie przetestuj działanie funkcji validate_ssn na przykładowych danych."
   ]
  },
  {
   "cell_type": "code",
   "execution_count": 11,
   "id": "5008dabf",
   "metadata": {},
   "outputs": [],
   "source": [
    "def validate_ssn(ssn, sex, birth_date):\n",
    "    \n",
    "    \"\"\"\n",
    "    \n",
    "    validates given ssn with given sex ('female/male') and birth date in format YYYYMMDD\n",
    "    \n",
    "    Returns 1 if validation is positive and 0 if negative\n",
    "    \n",
    "    \"\"\"\n",
    "\n",
    "    if sex.lower()[0] == 'm':\n",
    "        sex_variable=1\n",
    "    elif sex.lower()[0] == 'f':\n",
    "        sex_variable=0\n",
    "    else:\n",
    "        return('please choose sex between male or female')\n",
    "    \n",
    "    \n",
    "    if not birth_date.isnumeric():\n",
    "        return('Error, please provide birth date in format YYYYMMDD')\n",
    "    elif len(birth_date) != 8:\n",
    "        return('Error, please provide birth date in format YYYYMMDD')\n",
    "    else:\n",
    "        pass\n",
    "\n",
    "    #converting ssn \n",
    "    date_int = convert_ssn_to_date_int(ssn)\n",
    "\n",
    "    #validating sex\n",
    "    if int(ssn[-2])%2 == sex_variable:\n",
    "\n",
    "        #validating date\n",
    "        if date_int == int(birth_date):\n",
    "            \n",
    "            return 1\n",
    "        else:\n",
    "            return 0\n",
    "    else:\n",
    "        return 0"
   ]
  },
  {
   "cell_type": "code",
   "execution_count": 12,
   "id": "fea49543",
   "metadata": {},
   "outputs": [
    {
     "data": {
      "text/plain": [
       "1"
      ]
     },
     "execution_count": 12,
     "metadata": {},
     "output_type": "execute_result"
    }
   ],
   "source": [
    "#validating a proper ssn:\n",
    "validate_ssn('21010176481', 'female', '19210101')"
   ]
  },
  {
   "cell_type": "code",
   "execution_count": 13,
   "id": "3ed674e8",
   "metadata": {},
   "outputs": [
    {
     "data": {
      "text/plain": [
       "0"
      ]
     },
     "execution_count": 13,
     "metadata": {},
     "output_type": "execute_result"
    }
   ],
   "source": [
    "#validating a false ssn:\n",
    "validate_ssn('21010176481', 'male', '19210101')"
   ]
  },
  {
   "cell_type": "code",
   "execution_count": null,
   "id": "18a0f8e2",
   "metadata": {},
   "outputs": [],
   "source": []
  }
 ],
 "metadata": {
  "kernelspec": {
   "display_name": "Python 3",
   "language": "python",
   "name": "python3"
  },
  "language_info": {
   "codemirror_mode": {
    "name": "ipython",
    "version": 3
   },
   "file_extension": ".py",
   "mimetype": "text/x-python",
   "name": "python",
   "nbconvert_exporter": "python",
   "pygments_lexer": "ipython3",
   "version": "3.8.8"
  }
 },
 "nbformat": 4,
 "nbformat_minor": 5
}
